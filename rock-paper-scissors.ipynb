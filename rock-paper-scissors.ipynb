{
 "cells": [
  {
   "cell_type": "code",
   "execution_count": 9,
   "metadata": {},
   "outputs": [
    {
     "name": "stdout",
     "output_type": "stream",
     "text": [
      "ROCK, PAPER, SCISSORS\n",
      "0 wins, 0 losses, 0 ties\n",
      "\n",
      "Enter your move: (r)ock (p)aper (s)cissors or (q)uit\n",
      "r\n",
      "Type one of r, p, s or q\n",
      "ROCK versus...\n",
      "SCISSORS\n",
      "You win!\n"
     ]
    }
   ],
   "source": [
    "import random\n",
    "import sys\n",
    "print(\"ROCK, PAPER, SCISSORS\")\n",
    "wins = 0\n",
    "losses = 0\n",
    "ties = 0\n",
    "while True :\n",
    "    print(\"%s wins, %s losses, %s ties\\n\"%(wins,losses,ties))\n",
    "    break\n",
    "while True :\n",
    "    print(\"Enter your move: (r)ock (p)aper (s)cissors or (q)uit\")\n",
    "    break\n",
    "playermove = input()\n",
    "if playermove == 'q':\n",
    "    sys.exit()\n",
    "elif playermove == 'r' or playermove == 'p'  or playermove == 's' :\n",
    "     print(\"Type one of r, p, s or q\")\n",
    "if playermove == 'r' :\n",
    "    print(\"ROCK versus...\")\n",
    "elif playermove == 'p' :\n",
    "    print(\"PAPER versus...\")\n",
    "elif playermove == 's' :\n",
    "    print(\"SCISSORS versus...\")\n",
    "randomnumber = random.randint(1,3)\n",
    "\n",
    "if randomnumber == 1 :\n",
    "     computermove = 'r'\n",
    "     print(\"ROCK\")\n",
    "elif randomnumber == 2 :\n",
    "     computermove ='p'\n",
    "     print(\"PAPER\")\n",
    "elif randomnumber == 3 :\n",
    "      computermove = 's'\n",
    "      print(\"SCISSORS\")\n",
    "if playermove == computermove :\n",
    "      print(\"Its a tie!\")\n",
    "      ties = ties + 1\n",
    "elif playermove == 'r' and computermove == 's' :\n",
    "      print(\"You win!\")\n",
    "      wins = wins + 1\n",
    "elif playermove == 'p' and computermove == 'r' :\n",
    "      print(\"You win!\")\n",
    "      wins = wins + 1\n",
    "elif playermove == 's' and computermove == 'p' :\n",
    "      print(\"You win!\")\n",
    "      wins = wins + 1\n",
    "elif playermove == 'r' and computermove == 'p' :\n",
    "      print(\"You lose!\")\n",
    "      losses = losses + 1\n",
    "elif playermove == 'p' and computermove == 's' :\n",
    "      print(\"You lose!\")\n",
    "      losses = losses + 1\n",
    "elif playermove == 's' and computermove == 'r' :\n",
    "      print(\"You lose!\")\n",
    "      losses = losses + 1     \n",
    "\n",
    "    "
   ]
  },
  {
   "cell_type": "code",
   "execution_count": null,
   "metadata": {},
   "outputs": [],
   "source": []
  }
 ],
 "metadata": {
  "kernelspec": {
   "display_name": "Python 3",
   "language": "python",
   "name": "python3"
  },
  "language_info": {
   "codemirror_mode": {
    "name": "ipython",
    "version": 3
   },
   "file_extension": ".py",
   "mimetype": "text/x-python",
   "name": "python",
   "nbconvert_exporter": "python",
   "pygments_lexer": "ipython3",
   "version": "3.8.3"
  }
 },
 "nbformat": 4,
 "nbformat_minor": 4
}
